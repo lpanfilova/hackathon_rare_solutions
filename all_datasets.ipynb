{
 "cells": [
  {
   "cell_type": "markdown",
   "metadata": {},
   "source": [
    "# Challenge set: Rare Diseases Data Science and Research"
   ]
  },
  {
   "cell_type": "code",
   "execution_count": 37,
   "metadata": {},
   "outputs": [],
   "source": [
    "# Importing libraries\n",
    "import pandas as pd\n",
    "import xml.etree.ElementTree as ET\n",
    "import numpy as np\n",
    "import matplotlib as plt\n",
    "import seaborn as sns\n",
    "import matplotlib.pyplot as plt"
   ]
  },
  {
   "cell_type": "markdown",
   "metadata": {},
   "source": [
    "### Phenotypes dataset"
   ]
  },
  {
   "cell_type": "code",
   "execution_count": 17,
   "metadata": {},
   "outputs": [],
   "source": [
    "# Converting XML file to pandas dataframe\n",
    "\n",
    "data_for_df = []\n",
    "\n",
    "root = ET.parse('phenotypes.xml').getroot()\n",
    "hpo_disorder_set_status_list = root.findall('HPODisorderSetStatusList')[0]\n",
    "hpo_disorder_set_statuses = hpo_disorder_set_status_list.findall('HPODisorderSetStatus')\n",
    "\n",
    "for node in hpo_disorder_set_statuses:\n",
    "    # Exactly 1 disorder per HPODisorderSetStatus\n",
    "    disorder = node.findall('Disorder')[0]\n",
    "    disorder_name = disorder.findall('Name')[0].text\n",
    "    disorder_type = disorder.findall('DisorderType')[0].findall('Name')[0].text\n",
    "    disorder_group = disorder.findall('DisorderGroup')[0].findall('Name')[0].text\n",
    "    \n",
    "\n",
    "    \n",
    "    hpo_disorder_association_list = disorder.findall('HPODisorderAssociationList')[0]\n",
    "    hpo_disorder_associations = hpo_disorder_association_list.findall('HPODisorderAssociation')\n",
    "    \n",
    "    for association in hpo_disorder_associations:\n",
    "        hpo_term = association.findall('HPO')[0].findall('HPOTerm')[0].text\n",
    "        hpo_freq = association.findall('HPOFrequency')[0].findall('Name')[0].text \n",
    "        \n",
    "        data_for_df.append({'DisorderName' : disorder_name,\n",
    "                            'DisorderType' : disorder_type,\n",
    "                            'DisorderGroup' : disorder_group,\n",
    "                            'AssociatedHPO' : hpo_term,\n",
    "                            'HPOFrequency' : hpo_freq})\n",
    "        \n",
    "hpo_df = pd.DataFrame(data_for_df)  "
   ]
  },
  {
   "cell_type": "markdown",
   "metadata": {},
   "source": [
    "#### Data sample"
   ]
  },
  {
   "cell_type": "code",
   "execution_count": 4,
   "metadata": {},
   "outputs": [
    {
     "data": {
      "text/html": [
       "<div>\n",
       "<style scoped>\n",
       "    .dataframe tbody tr th:only-of-type {\n",
       "        vertical-align: middle;\n",
       "    }\n",
       "\n",
       "    .dataframe tbody tr th {\n",
       "        vertical-align: top;\n",
       "    }\n",
       "\n",
       "    .dataframe thead th {\n",
       "        text-align: right;\n",
       "    }\n",
       "</style>\n",
       "<table border=\"1\" class=\"dataframe\">\n",
       "  <thead>\n",
       "    <tr style=\"text-align: right;\">\n",
       "      <th></th>\n",
       "      <th>AssociatedHPO</th>\n",
       "      <th>DisorderGroup</th>\n",
       "      <th>DisorderName</th>\n",
       "      <th>DisorderType</th>\n",
       "      <th>HPOFrequency</th>\n",
       "    </tr>\n",
       "  </thead>\n",
       "  <tbody>\n",
       "    <tr>\n",
       "      <th>0</th>\n",
       "      <td>Macrocephaly</td>\n",
       "      <td>Disorder</td>\n",
       "      <td>Alexander disease</td>\n",
       "      <td>Disease</td>\n",
       "      <td>Very frequent (99-80%)</td>\n",
       "    </tr>\n",
       "    <tr>\n",
       "      <th>1</th>\n",
       "      <td>Intellectual disability</td>\n",
       "      <td>Disorder</td>\n",
       "      <td>Alexander disease</td>\n",
       "      <td>Disease</td>\n",
       "      <td>Very frequent (99-80%)</td>\n",
       "    </tr>\n",
       "    <tr>\n",
       "      <th>2</th>\n",
       "      <td>Seizures</td>\n",
       "      <td>Disorder</td>\n",
       "      <td>Alexander disease</td>\n",
       "      <td>Disease</td>\n",
       "      <td>Very frequent (99-80%)</td>\n",
       "    </tr>\n",
       "    <tr>\n",
       "      <th>3</th>\n",
       "      <td>Spasticity</td>\n",
       "      <td>Disorder</td>\n",
       "      <td>Alexander disease</td>\n",
       "      <td>Disease</td>\n",
       "      <td>Very frequent (99-80%)</td>\n",
       "    </tr>\n",
       "    <tr>\n",
       "      <th>4</th>\n",
       "      <td>Agenesis of corpus callosum</td>\n",
       "      <td>Disorder</td>\n",
       "      <td>Alexander disease</td>\n",
       "      <td>Disease</td>\n",
       "      <td>Very frequent (99-80%)</td>\n",
       "    </tr>\n",
       "  </tbody>\n",
       "</table>\n",
       "</div>"
      ],
      "text/plain": [
       "                 AssociatedHPO DisorderGroup       DisorderName DisorderType  \\\n",
       "0                 Macrocephaly      Disorder  Alexander disease      Disease   \n",
       "1      Intellectual disability      Disorder  Alexander disease      Disease   \n",
       "2                     Seizures      Disorder  Alexander disease      Disease   \n",
       "3                   Spasticity      Disorder  Alexander disease      Disease   \n",
       "4  Agenesis of corpus callosum      Disorder  Alexander disease      Disease   \n",
       "\n",
       "             HPOFrequency  \n",
       "0  Very frequent (99-80%)  \n",
       "1  Very frequent (99-80%)  \n",
       "2  Very frequent (99-80%)  \n",
       "3  Very frequent (99-80%)  \n",
       "4  Very frequent (99-80%)  "
      ]
     },
     "execution_count": 4,
     "metadata": {},
     "output_type": "execute_result"
    }
   ],
   "source": [
    "hpo_df.head()"
   ]
  },
  {
   "cell_type": "markdown",
   "metadata": {},
   "source": [
    "#### Basic Data Info"
   ]
  },
  {
   "cell_type": "code",
   "execution_count": 5,
   "metadata": {},
   "outputs": [
    {
     "data": {
      "text/html": [
       "<div>\n",
       "<style scoped>\n",
       "    .dataframe tbody tr th:only-of-type {\n",
       "        vertical-align: middle;\n",
       "    }\n",
       "\n",
       "    .dataframe tbody tr th {\n",
       "        vertical-align: top;\n",
       "    }\n",
       "\n",
       "    .dataframe thead th {\n",
       "        text-align: right;\n",
       "    }\n",
       "</style>\n",
       "<table border=\"1\" class=\"dataframe\">\n",
       "  <thead>\n",
       "    <tr style=\"text-align: right;\">\n",
       "      <th></th>\n",
       "      <th>AssociatedHPO</th>\n",
       "      <th>DisorderGroup</th>\n",
       "      <th>DisorderName</th>\n",
       "      <th>DisorderType</th>\n",
       "      <th>HPOFrequency</th>\n",
       "    </tr>\n",
       "  </thead>\n",
       "  <tbody>\n",
       "    <tr>\n",
       "      <th>count</th>\n",
       "      <td>102872</td>\n",
       "      <td>102872</td>\n",
       "      <td>102872</td>\n",
       "      <td>102872</td>\n",
       "      <td>102872</td>\n",
       "    </tr>\n",
       "    <tr>\n",
       "      <th>unique</th>\n",
       "      <td>7684</td>\n",
       "      <td>3</td>\n",
       "      <td>4039</td>\n",
       "      <td>11</td>\n",
       "      <td>6</td>\n",
       "    </tr>\n",
       "    <tr>\n",
       "      <th>top</th>\n",
       "      <td>Seizures</td>\n",
       "      <td>Disorder</td>\n",
       "      <td>Williams syndrome</td>\n",
       "      <td>Disease</td>\n",
       "      <td>Occasional (29-5%)</td>\n",
       "    </tr>\n",
       "    <tr>\n",
       "      <th>freq</th>\n",
       "      <td>961</td>\n",
       "      <td>90413</td>\n",
       "      <td>187</td>\n",
       "      <td>51053</td>\n",
       "      <td>36056</td>\n",
       "    </tr>\n",
       "  </tbody>\n",
       "</table>\n",
       "</div>"
      ],
      "text/plain": [
       "       AssociatedHPO DisorderGroup       DisorderName DisorderType  \\\n",
       "count         102872        102872             102872       102872   \n",
       "unique          7684             3               4039           11   \n",
       "top         Seizures      Disorder  Williams syndrome      Disease   \n",
       "freq             961         90413                187        51053   \n",
       "\n",
       "              HPOFrequency  \n",
       "count               102872  \n",
       "unique                   6  \n",
       "top     Occasional (29-5%)  \n",
       "freq                 36056  "
      ]
     },
     "execution_count": 5,
     "metadata": {},
     "output_type": "execute_result"
    }
   ],
   "source": [
    "hpo_df.describe()"
   ]
  },
  {
   "cell_type": "markdown",
   "metadata": {},
   "source": [
    "#### Unique Values: "
   ]
  },
  {
   "cell_type": "code",
   "execution_count": null,
   "metadata": {},
   "outputs": [],
   "source": [
    "# Checking unique values\n",
    "\n",
    "print(hpo_df['DisorderGroup'].unique())\n",
    "print('\\n')\n",
    "print(hpo_df['DisorderType'].unique())\n",
    "print('\\n')\n",
    "print(hpo_df['HPOFrequency'].unique())"
   ]
  },
  {
   "cell_type": "markdown",
   "metadata": {},
   "source": [
    "#### One disease data sample"
   ]
  },
  {
   "cell_type": "code",
   "execution_count": 8,
   "metadata": {},
   "outputs": [
    {
     "name": "stdout",
     "output_type": "stream",
     "text": [
      "                 AssociatedHPO DisorderGroup       DisorderName DisorderType  \\\n",
      "0                 Macrocephaly      Disorder  Alexander disease      Disease   \n",
      "1      Intellectual disability      Disorder  Alexander disease      Disease   \n",
      "2                     Seizures      Disorder  Alexander disease      Disease   \n",
      "3                   Spasticity      Disorder  Alexander disease      Disease   \n",
      "4  Agenesis of corpus callosum      Disorder  Alexander disease      Disease   \n",
      "\n",
      "             HPOFrequency  \n",
      "0  Very frequent (99-80%)  \n",
      "1  Very frequent (99-80%)  \n",
      "2  Very frequent (99-80%)  \n",
      "3  Very frequent (99-80%)  \n",
      "4  Very frequent (99-80%)  \n",
      "...\n",
      "              AssociatedHPO DisorderGroup       DisorderName DisorderType  \\\n",
      "56             Dysautonomia      Disorder  Alexander disease      Disease   \n",
      "57       Bowel incontinence      Disorder  Alexander disease      Disease   \n",
      "58            Hyperlordosis      Disorder  Alexander disease      Disease   \n",
      "59      Hyperpigmented nevi      Disorder  Alexander disease      Disease   \n",
      "60  Self-injurious behavior      Disorder  Alexander disease      Disease   \n",
      "\n",
      "          HPOFrequency  \n",
      "56  Occasional (29-5%)  \n",
      "57  Occasional (29-5%)  \n",
      "58  Occasional (29-5%)  \n",
      "59  Occasional (29-5%)  \n",
      "60  Occasional (29-5%)  \n"
     ]
    }
   ],
   "source": [
    "# One disease data sample\n",
    "\n",
    "alexander_disease = hpo_df[(hpo_df.DisorderName == \"Alexander disease\")]\n",
    "print(alexander_disease.head())\n",
    "print('...')\n",
    "print(alexander_disease.tail())"
   ]
  },
  {
   "cell_type": "markdown",
   "metadata": {},
   "source": [
    "#### Exploring disorder - phenotype association"
   ]
  },
  {
   "cell_type": "markdown",
   "metadata": {},
   "source": [
    "How many HPO are associated with every disorder?"
   ]
  },
  {
   "cell_type": "code",
   "execution_count": 7,
   "metadata": {},
   "outputs": [],
   "source": [
    "# Check how many HPO are associated with every disorder\n",
    "\n",
    "agg_df = hpo_df.groupby(['DisorderName']).aggregate({'AssociatedHPO': 'count'})\n",
    "agg_df = agg_df.sort_values(by='AssociatedHPO')"
   ]
  },
  {
   "cell_type": "code",
   "execution_count": 29,
   "metadata": {},
   "outputs": [
    {
     "name": "stdout",
     "output_type": "stream",
     "text": [
      "Disorders with lowest number of associated HPO:\n",
      "                                                    AssociatedHPO\n",
      "DisorderName                                                     \n",
      "Laryngeal abductor paralysis                                    2\n",
      "Idiopathic steroid-sensitive nephrotic syndrome                 2\n",
      "Diffuse palmoplantar keratoderma-acrocyanosis s...              2\n",
      "Hallux varus-preaxial polysyndactyly syndrome                   2\n",
      "Familial supernumerary nipples                                  2\n",
      "Bifid nose                                                      2\n",
      "Neurofibromatosis type 6                                        2\n",
      "Neuroblastoma                                                   2\n",
      "Vacuolar myopathy with sarcoplasmic reticulum p...              2\n",
      "Ringed hair disease                                             2\n",
      "\n",
      "\n",
      "Disorders with highest number of associated HPO:\n",
      "                                                    AssociatedHPO\n",
      "DisorderName                                                     \n",
      "Oculocerebrorenal syndrome of Lowe                            120\n",
      "Rubinstein-Taybi syndrome due to EP300 haploins...            123\n",
      "Rubinstein-Taybi syndrome due to CREBBP mutations             123\n",
      "17q21.31 microdeletion syndrome                               124\n",
      "Koolen-De Vries syndrome due to a point mutation              124\n",
      "Mowat-Wilson syndrome due to monosomy 2q22                    129\n",
      "Wiedemann-Rautenstrauch syndrome                              130\n",
      "22q11.2 deletion syndrome                                     131\n",
      "Mowat-Wilson syndrome due to a ZEB2 point mutation            147\n",
      "Williams syndrome                                             187\n"
     ]
    }
   ],
   "source": [
    "print(\"Disorders with lowest number of associated HPO:\")\n",
    "print(agg_df.head(10))\n",
    "print('\\n')\n",
    "print(\"Disorders with highest number of associated HPO:\")\n",
    "print(agg_df.tail(10))"
   ]
  },
  {
   "cell_type": "code",
   "execution_count": 9,
   "metadata": {},
   "outputs": [
    {
     "name": "stdout",
     "output_type": "stream",
     "text": [
      "\n",
      "\n",
      "TOTAL Amount of disorders: 4039\n",
      "Amount of disorders with only 2 associated HPO: 50\n",
      "Amount of disorders with less than 10 associated HPO: 734\n",
      "\n",
      "\n",
      "Amount of disorders with more than a 100 associated HPO: 28\n"
     ]
    },
    {
     "data": {
      "text/html": [
       "<div>\n",
       "<style scoped>\n",
       "    .dataframe tbody tr th:only-of-type {\n",
       "        vertical-align: middle;\n",
       "    }\n",
       "\n",
       "    .dataframe tbody tr th {\n",
       "        vertical-align: top;\n",
       "    }\n",
       "\n",
       "    .dataframe thead th {\n",
       "        text-align: right;\n",
       "    }\n",
       "</style>\n",
       "<table border=\"1\" class=\"dataframe\">\n",
       "  <thead>\n",
       "    <tr style=\"text-align: right;\">\n",
       "      <th></th>\n",
       "      <th>AssociatedHPO</th>\n",
       "    </tr>\n",
       "  </thead>\n",
       "  <tbody>\n",
       "    <tr>\n",
       "      <th>count</th>\n",
       "      <td>4039.000000</td>\n",
       "    </tr>\n",
       "    <tr>\n",
       "      <th>mean</th>\n",
       "      <td>25.469671</td>\n",
       "    </tr>\n",
       "    <tr>\n",
       "      <th>std</th>\n",
       "      <td>19.348221</td>\n",
       "    </tr>\n",
       "    <tr>\n",
       "      <th>min</th>\n",
       "      <td>2.000000</td>\n",
       "    </tr>\n",
       "    <tr>\n",
       "      <th>25%</th>\n",
       "      <td>12.000000</td>\n",
       "    </tr>\n",
       "    <tr>\n",
       "      <th>50%</th>\n",
       "      <td>21.000000</td>\n",
       "    </tr>\n",
       "    <tr>\n",
       "      <th>75%</th>\n",
       "      <td>34.000000</td>\n",
       "    </tr>\n",
       "    <tr>\n",
       "      <th>max</th>\n",
       "      <td>187.000000</td>\n",
       "    </tr>\n",
       "  </tbody>\n",
       "</table>\n",
       "</div>"
      ],
      "text/plain": [
       "       AssociatedHPO\n",
       "count    4039.000000\n",
       "mean       25.469671\n",
       "std        19.348221\n",
       "min         2.000000\n",
       "25%        12.000000\n",
       "50%        21.000000\n",
       "75%        34.000000\n",
       "max       187.000000"
      ]
     },
     "execution_count": 9,
     "metadata": {},
     "output_type": "execute_result"
    }
   ],
   "source": [
    "print(\"\\n\")\n",
    "print(\"TOTAL Amount of disorders:\", len(agg_df))\n",
    "print(\"Amount of disorders with only 2 associated HPO:\", len(agg_df[(agg_df.AssociatedHPO == 2)]))\n",
    "print(\"Amount of disorders with less than 10 associated HPO:\", len(agg_df[(agg_df.AssociatedHPO < 10)]))\n",
    "print(\"\\n\")\n",
    "print(\"Amount of disorders with more than a 100 associated HPO:\", len(agg_df[(agg_df.AssociatedHPO > 100)]))\n",
    "\n",
    "agg_df.describe()"
   ]
  },
  {
   "cell_type": "markdown",
   "metadata": {},
   "source": [
    "#### Distribution of the number of associated HPO by disorder"
   ]
  },
  {
   "cell_type": "code",
   "execution_count": 19,
   "metadata": {},
   "outputs": [
    {
     "data": {
      "text/plain": [
       "<seaborn.axisgrid.FacetGrid at 0x20b8c3c9438>"
      ]
     },
     "execution_count": 19,
     "metadata": {},
     "output_type": "execute_result"
    },
    {
     "data": {
      "image/png": "[encoded data removed]",
      "text/plain": [
       "<Figure size 360x360 with 1 Axes>"
      ]
     },
     "metadata": {
      "needs_background": "light"
     },
     "output_type": "display_data"
    }
   ],
   "source": [
    "# Distribution of the number of associated HPO by disorder\n",
    "\n",
    "sns.displot(agg_df, x = \"AssociatedHPO\", bins=187)"
   ]
  },
  {
   "cell_type": "markdown",
   "metadata": {},
   "source": [
    "#### Exploring phenotype - disorder association"
   ]
  },
  {
   "cell_type": "markdown",
   "metadata": {},
   "source": [
    "How many disorders one HPO is associated with?"
   ]
  },
  {
   "cell_type": "code",
   "execution_count": 27,
   "metadata": {},
   "outputs": [
    {
     "name": "stdout",
     "output_type": "stream",
     "text": [
      "                                   DisorderName\n",
      "AssociatedHPO                                  \n",
      "1-2 finger syndactyly                         1\n",
      "Bloodstream infectious agent                  1\n",
      "Lower limb dysmetria                          1\n",
      "Bloody mucoid diarrhea                        1\n",
      "Blue cone monochromacy                        1\n",
      "Lower eyelid coloboma                         1\n",
      "Lower extremity joint dislocation             1\n",
      "Lower cranial nerve dysfunction               1\n",
      "Low-to-normal blood pressure                  1\n",
      "Body odor                                     1\n",
      "                            DisorderName\n",
      "AssociatedHPO                           \n",
      "Micrognathia                         451\n",
      "Strabismus                           472\n",
      "Hypertelorism                        484\n",
      "Muscular hypotonia                   515\n",
      "Scoliosis                            541\n",
      "Microcephaly                         576\n",
      "Global developmental delay           727\n",
      "Short stature                        764\n",
      "Intellectual disability              829\n",
      "Seizures                             961\n"
     ]
    }
   ],
   "source": [
    "# Check how many disorders one HPO is associated with\n",
    "agg_df_byHPO = hpo_df.groupby(['AssociatedHPO']).aggregate({'DisorderName': 'count'})\n",
    "agg_df_byHPO = agg_df_byHPO.sort_values(by='DisorderName')\n",
    "print(agg_df_byHPO.head(10))\n",
    "print(agg_df_byHPO.tail(10))"
   ]
  },
  {
   "cell_type": "code",
   "execution_count": 30,
   "metadata": {},
   "outputs": [
    {
     "data": {
      "text/html": [
       "<div>\n",
       "<style scoped>\n",
       "    .dataframe tbody tr th:only-of-type {\n",
       "        vertical-align: middle;\n",
       "    }\n",
       "\n",
       "    .dataframe tbody tr th {\n",
       "        vertical-align: top;\n",
       "    }\n",
       "\n",
       "    .dataframe thead th {\n",
       "        text-align: right;\n",
       "    }\n",
       "</style>\n",
       "<table border=\"1\" class=\"dataframe\">\n",
       "  <thead>\n",
       "    <tr style=\"text-align: right;\">\n",
       "      <th></th>\n",
       "      <th>DisorderName</th>\n",
       "    </tr>\n",
       "  </thead>\n",
       "  <tbody>\n",
       "    <tr>\n",
       "      <th>count</th>\n",
       "      <td>7684.000000</td>\n",
       "    </tr>\n",
       "    <tr>\n",
       "      <th>mean</th>\n",
       "      <td>13.387819</td>\n",
       "    </tr>\n",
       "    <tr>\n",
       "      <th>std</th>\n",
       "      <td>37.703441</td>\n",
       "    </tr>\n",
       "    <tr>\n",
       "      <th>min</th>\n",
       "      <td>1.000000</td>\n",
       "    </tr>\n",
       "    <tr>\n",
       "      <th>25%</th>\n",
       "      <td>1.000000</td>\n",
       "    </tr>\n",
       "    <tr>\n",
       "      <th>50%</th>\n",
       "      <td>3.000000</td>\n",
       "    </tr>\n",
       "    <tr>\n",
       "      <th>75%</th>\n",
       "      <td>10.000000</td>\n",
       "    </tr>\n",
       "    <tr>\n",
       "      <th>max</th>\n",
       "      <td>961.000000</td>\n",
       "    </tr>\n",
       "  </tbody>\n",
       "</table>\n",
       "</div>"
      ],
      "text/plain": [
       "       DisorderName\n",
       "count   7684.000000\n",
       "mean      13.387819\n",
       "std       37.703441\n",
       "min        1.000000\n",
       "25%        1.000000\n",
       "50%        3.000000\n",
       "75%       10.000000\n",
       "max      961.000000"
      ]
     },
     "execution_count": 30,
     "metadata": {},
     "output_type": "execute_result"
    }
   ],
   "source": [
    "agg_df_byHPO.describe()"
   ]
  },
  {
   "cell_type": "markdown",
   "metadata": {},
   "source": [
    "#### Distribution of the number of disorders one HPO is associaded with"
   ]
  },
  {
   "cell_type": "code",
   "execution_count": 54,
   "metadata": {},
   "outputs": [
    {
     "name": "stdout",
     "output_type": "stream",
     "text": [
      "\n",
      "\n",
      "TOTAL Amount of HPO: 7684\n",
      "Amount of HPO with only 1 associated disorder: 2150\n",
      "Amount of HPO with less than 5 associated disorders: 4458\n",
      "\n",
      "\n",
      "Amount of HPO with more than a 10 associated disorders: 1817\n"
     ]
    },
    {
     "data": {
      "image/png": "[encoded data removed]",
      "text/plain": [
       "<Figure size 360x360 with 1 Axes>"
      ]
     },
     "metadata": {
      "needs_background": "light"
     },
     "output_type": "display_data"
    }
   ],
   "source": [
    "# Distribution of the number of disorders associated with 1 HPO\n",
    "\n",
    "sns.displot(agg_df_byHPO, x = \"DisorderName\", bins=961)\n",
    "\n",
    "print(\"\\n\")\n",
    "print(\"TOTAL Amount of HPO:\", len(agg_df_byHPO))\n",
    "print(\"Amount of HPO with only 1 associated disorder:\", len(agg_df_byHPO[(agg_df_byHPO.DisorderName == 1)]))\n",
    "print(\"Amount of HPO with less than 5 associated disorders:\", len(agg_df_byHPO[(agg_df_byHPO.DisorderName < 5)]))\n",
    "print(\"\\n\")\n",
    "print(\"Amount of HPO with more than a 10 associated disorders:\", len(agg_df_byHPO[(agg_df_byHPO.DisorderName > 10)]))"
   ]
  },
  {
   "cell_type": "markdown",
   "metadata": {},
   "source": [
    "More than half of rare diorders have 20 or more associated phenotypes. At the same time almost 30% of phenotypes have only 1 disorder to be associated with. And 58% has less than 5 rare disorders to be associated with. Therefore, we can determine a reasonably short list of possible rare disorders based on input of phenotypes."
   ]
  },
  {
   "cell_type": "markdown",
   "metadata": {},
   "source": [
    "### Genes dataset"
   ]
  },
  {
   "cell_type": "code",
   "execution_count": 10,
   "metadata": {},
   "outputs": [],
   "source": [
    "# Converting XML file to pandas dataframe\n",
    "\n",
    "data_for_df = []\n",
    "\n",
    "root = ET.parse('genes.xml').getroot()\n",
    "disorder_list = root.findall('DisorderList')[0]\n",
    "disorders = disorder_list.findall('Disorder') \n",
    "\n",
    "#a = []\n",
    "\n",
    "for disorder in disorders:\n",
    "    disorder_name = disorder.findall('Name')[0].text\n",
    "    disorder_type = disorder.findall('DisorderType')[0].findall('Name')[0].text\n",
    "    disorder_group = disorder.findall('DisorderGroup')[0].findall('Name')[0].text\n",
    "    #a.append(len(disorder.findall('Name')))\n",
    "#print(max(a))\n",
    "\n",
    "    disorder_gene_association_list = disorder.findall('DisorderGeneAssociationList')[0]\n",
    "    disorder_gene_associations = disorder_gene_association_list.findall('DisorderGeneAssociation')\n",
    "    \n",
    "    for association in disorder_gene_associations:\n",
    "        gene = association.findall('Gene')[0].findall('Name')[0].text\n",
    "        gene_symbol = association.findall('Gene')[0].findall('Symbol')[0].text\n",
    "        gene_type = association.findall('Gene')[0].findall('GeneType')[0].findall('Name')[0].text\n",
    "        disorder_gene_association_type = association.findall('DisorderGeneAssociationType')[0].findall('Name')[0].text\n",
    "\n",
    "        data_for_df.append({'DisorderName' : disorder_name,\n",
    "                            'DisorderType' : disorder_type,\n",
    "                            'DisorderGroup' : disorder_group,\n",
    "                            'AccociatedGene' : gene,\n",
    "                            'GeneSymbol' : gene_symbol,\n",
    "                            'GeneType': gene_type,\n",
    "                            'GeneTypeAssociation': disorder_gene_association_type})\n",
    "        \n",
    "gene_df = pd.DataFrame(data_for_df)  "
   ]
  },
  {
   "cell_type": "markdown",
   "metadata": {},
   "source": [
    "#### Data Sample"
   ]
  },
  {
   "cell_type": "code",
   "execution_count": 11,
   "metadata": {},
   "outputs": [
    {
     "data": {
      "text/html": [
       "<div>\n",
       "<style scoped>\n",
       "    .dataframe tbody tr th:only-of-type {\n",
       "        vertical-align: middle;\n",
       "    }\n",
       "\n",
       "    .dataframe tbody tr th {\n",
       "        vertical-align: top;\n",
       "    }\n",
       "\n",
       "    .dataframe thead th {\n",
       "        text-align: right;\n",
       "    }\n",
       "</style>\n",
       "<table border=\"1\" class=\"dataframe\">\n",
       "  <thead>\n",
       "    <tr style=\"text-align: right;\">\n",
       "      <th></th>\n",
       "      <th>AccociatedGene</th>\n",
       "      <th>DisorderGroup</th>\n",
       "      <th>DisorderName</th>\n",
       "      <th>DisorderType</th>\n",
       "      <th>GeneSymbol</th>\n",
       "      <th>GeneType</th>\n",
       "      <th>GeneTypeAssociation</th>\n",
       "    </tr>\n",
       "  </thead>\n",
       "  <tbody>\n",
       "    <tr>\n",
       "      <th>0</th>\n",
       "      <td>kinesin family member 7</td>\n",
       "      <td>Disorder</td>\n",
       "      <td>Multiple epiphyseal dysplasia, Al-Gazali type</td>\n",
       "      <td>Disease</td>\n",
       "      <td>KIF7</td>\n",
       "      <td>gene with protein product</td>\n",
       "      <td>Disease-causing germline mutation(s) in</td>\n",
       "    </tr>\n",
       "    <tr>\n",
       "      <th>1</th>\n",
       "      <td>aspartylglucosaminidase</td>\n",
       "      <td>Disorder</td>\n",
       "      <td>Aspartylglucosaminuria</td>\n",
       "      <td>Disease</td>\n",
       "      <td>AGA</td>\n",
       "      <td>gene with protein product</td>\n",
       "      <td>Disease-causing germline mutation(s) in</td>\n",
       "    </tr>\n",
       "    <tr>\n",
       "      <th>2</th>\n",
       "      <td>CWC27 spliceosome associated protein homolog</td>\n",
       "      <td>Disorder</td>\n",
       "      <td>Brachydactyly-short stature-retinitis pigmento...</td>\n",
       "      <td>Malformation syndrome</td>\n",
       "      <td>CWC27</td>\n",
       "      <td>gene with protein product</td>\n",
       "      <td>Disease-causing germline mutation(s) in</td>\n",
       "    </tr>\n",
       "    <tr>\n",
       "      <th>3</th>\n",
       "      <td>sulfatase modifying factor 1</td>\n",
       "      <td>Disorder</td>\n",
       "      <td>Multiple sulfatase deficiency</td>\n",
       "      <td>Disease</td>\n",
       "      <td>SUMF1</td>\n",
       "      <td>gene with protein product</td>\n",
       "      <td>Disease-causing germline mutation(s) in</td>\n",
       "    </tr>\n",
       "    <tr>\n",
       "      <th>4</th>\n",
       "      <td>mannosidase beta</td>\n",
       "      <td>Disorder</td>\n",
       "      <td>Beta-mannosidosis</td>\n",
       "      <td>Disease</td>\n",
       "      <td>MANBA</td>\n",
       "      <td>gene with protein product</td>\n",
       "      <td>Disease-causing germline mutation(s) in</td>\n",
       "    </tr>\n",
       "  </tbody>\n",
       "</table>\n",
       "</div>"
      ],
      "text/plain": [
       "                                 AccociatedGene DisorderGroup  \\\n",
       "0                       kinesin family member 7      Disorder   \n",
       "1                       aspartylglucosaminidase      Disorder   \n",
       "2  CWC27 spliceosome associated protein homolog      Disorder   \n",
       "3                  sulfatase modifying factor 1      Disorder   \n",
       "4                              mannosidase beta      Disorder   \n",
       "\n",
       "                                        DisorderName           DisorderType  \\\n",
       "0      Multiple epiphyseal dysplasia, Al-Gazali type                Disease   \n",
       "1                             Aspartylglucosaminuria                Disease   \n",
       "2  Brachydactyly-short stature-retinitis pigmento...  Malformation syndrome   \n",
       "3                      Multiple sulfatase deficiency                Disease   \n",
       "4                                  Beta-mannosidosis                Disease   \n",
       "\n",
       "  GeneSymbol                   GeneType  \\\n",
       "0       KIF7  gene with protein product   \n",
       "1        AGA  gene with protein product   \n",
       "2      CWC27  gene with protein product   \n",
       "3      SUMF1  gene with protein product   \n",
       "4      MANBA  gene with protein product   \n",
       "\n",
       "                       GeneTypeAssociation  \n",
       "0  Disease-causing germline mutation(s) in  \n",
       "1  Disease-causing germline mutation(s) in  \n",
       "2  Disease-causing germline mutation(s) in  \n",
       "3  Disease-causing germline mutation(s) in  \n",
       "4  Disease-causing germline mutation(s) in  "
      ]
     },
     "execution_count": 11,
     "metadata": {},
     "output_type": "execute_result"
    }
   ],
   "source": [
    "gene_df.head()"
   ]
  },
  {
   "cell_type": "markdown",
   "metadata": {},
   "source": [
    "#### Basic Data Info"
   ]
  },
  {
   "cell_type": "code",
   "execution_count": 12,
   "metadata": {},
   "outputs": [
    {
     "data": {
      "text/html": [
       "<div>\n",
       "<style scoped>\n",
       "    .dataframe tbody tr th:only-of-type {\n",
       "        vertical-align: middle;\n",
       "    }\n",
       "\n",
       "    .dataframe tbody tr th {\n",
       "        vertical-align: top;\n",
       "    }\n",
       "\n",
       "    .dataframe thead th {\n",
       "        text-align: right;\n",
       "    }\n",
       "</style>\n",
       "<table border=\"1\" class=\"dataframe\">\n",
       "  <thead>\n",
       "    <tr style=\"text-align: right;\">\n",
       "      <th></th>\n",
       "      <th>AccociatedGene</th>\n",
       "      <th>DisorderGroup</th>\n",
       "      <th>DisorderName</th>\n",
       "      <th>DisorderType</th>\n",
       "      <th>GeneSymbol</th>\n",
       "      <th>GeneType</th>\n",
       "      <th>GeneTypeAssociation</th>\n",
       "    </tr>\n",
       "  </thead>\n",
       "  <tbody>\n",
       "    <tr>\n",
       "      <th>count</th>\n",
       "      <td>7864</td>\n",
       "      <td>7864</td>\n",
       "      <td>7864</td>\n",
       "      <td>7864</td>\n",
       "      <td>7864</td>\n",
       "      <td>7864</td>\n",
       "      <td>7864</td>\n",
       "    </tr>\n",
       "    <tr>\n",
       "      <th>unique</th>\n",
       "      <td>4200</td>\n",
       "      <td>3</td>\n",
       "      <td>3853</td>\n",
       "      <td>11</td>\n",
       "      <td>4200</td>\n",
       "      <td>3</td>\n",
       "      <td>10</td>\n",
       "    </tr>\n",
       "    <tr>\n",
       "      <th>top</th>\n",
       "      <td>lamin A/C</td>\n",
       "      <td>Disorder</td>\n",
       "      <td>Retinitis pigmentosa</td>\n",
       "      <td>Disease</td>\n",
       "      <td>LMNA</td>\n",
       "      <td>gene with protein product</td>\n",
       "      <td>Disease-causing germline mutation(s) in</td>\n",
       "    </tr>\n",
       "    <tr>\n",
       "      <th>freq</th>\n",
       "      <td>19</td>\n",
       "      <td>6216</td>\n",
       "      <td>82</td>\n",
       "      <td>4639</td>\n",
       "      <td>19</td>\n",
       "      <td>7749</td>\n",
       "      <td>4815</td>\n",
       "    </tr>\n",
       "  </tbody>\n",
       "</table>\n",
       "</div>"
      ],
      "text/plain": [
       "       AccociatedGene DisorderGroup          DisorderName DisorderType  \\\n",
       "count            7864          7864                  7864         7864   \n",
       "unique           4200             3                  3853           11   \n",
       "top         lamin A/C      Disorder  Retinitis pigmentosa      Disease   \n",
       "freq               19          6216                    82         4639   \n",
       "\n",
       "       GeneSymbol                   GeneType  \\\n",
       "count        7864                       7864   \n",
       "unique       4200                          3   \n",
       "top          LMNA  gene with protein product   \n",
       "freq           19                       7749   \n",
       "\n",
       "                            GeneTypeAssociation  \n",
       "count                                      7864  \n",
       "unique                                       10  \n",
       "top     Disease-causing germline mutation(s) in  \n",
       "freq                                       4815  "
      ]
     },
     "execution_count": 12,
     "metadata": {},
     "output_type": "execute_result"
    }
   ],
   "source": [
    "gene_df.describe()"
   ]
  },
  {
   "cell_type": "markdown",
   "metadata": {},
   "source": [
    "#### Unique Values:"
   ]
  },
  {
   "cell_type": "code",
   "execution_count": 14,
   "metadata": {},
   "outputs": [
    {
     "name": "stdout",
     "output_type": "stream",
     "text": [
      "['Disorder' 'Subtype of disorder' 'Group of disorders']\n",
      "\n",
      "\n",
      "['Disease' 'Malformation syndrome' 'Clinical subtype'\n",
      " 'Etiological subtype' 'Morphological anomaly' 'Biological anomaly'\n",
      " 'Clinical syndrome'\n",
      " 'Particular clinical situation in a disease or syndrome'\n",
      " 'Histopathological subtype' 'Clinical group' 'Category']\n",
      "\n",
      "\n",
      "['gene with protein product' 'Non-coding RNA' 'Disorder-associated locus']\n",
      "\n",
      "\n",
      "['Disease-causing germline mutation(s) in'\n",
      " 'Modifying germline mutation in' 'Major susceptibility factor in'\n",
      " 'Candidate gene tested in'\n",
      " 'Disease-causing germline mutation(s) (loss of function) in'\n",
      " 'Disease-causing somatic mutation(s) in'\n",
      " 'Disease-causing germline mutation(s) (gain of function) in'\n",
      " 'Role in the phenotype of' 'Part of a fusion gene in'\n",
      " 'Biomarker tested in']\n"
     ]
    }
   ],
   "source": [
    "print(gene_df['DisorderGroup'].unique())\n",
    "print('\\n')\n",
    "print(gene_df['DisorderType'].unique())\n",
    "print('\\n')\n",
    "print(gene_df['GeneType'].unique())\n",
    "print('\\n')\n",
    "print(gene_df['GeneTypeAssociation'].unique())"
   ]
  },
  {
   "cell_type": "markdown",
   "metadata": {},
   "source": [
    "#### Exploring disorder - gene association"
   ]
  },
  {
   "cell_type": "code",
   "execution_count": 26,
   "metadata": {},
   "outputs": [
    {
     "name": "stdout",
     "output_type": "stream",
     "text": [
      "Disorders with lowest number of associated genes:\n",
      "                                                    AccociatedGene\n",
      "DisorderName                                                      \n",
      "12p12.1 microdeletion syndrome                                   1\n",
      "McLeod neuroacanthocytosis syndrome                              1\n",
      "Meacham syndrome                                                 1\n",
      "Medium chain acyl-CoA dehydrogenase deficiency                   1\n",
      "Medulloblastoma with extensive nodularity                        1\n",
      "Megaconial congenital muscular dystrophy                         1\n",
      "Megalencephaly-capillary malformation-polymicro...               1\n",
      "Megalencephaly-severe kyphoscoliosis-overgrowth...               1\n",
      "Melanoma and neural system tumor syndrome                        1\n",
      "Melnick-Needles syndrome                                         1\n",
      "\n",
      "\n",
      "Disorders with highest number of associated genes:\n",
      "                                                    AccociatedGene\n",
      "DisorderName                                                      \n",
      "NON RARE IN EUROPE: Familial isolated hypertrop...              33\n",
      "Autosomal dominant non-syndromic intellectual d...              35\n",
      "Amyotrophic lateral sclerosis                                   37\n",
      "Autosomal recessive non-syndromic intellectual ...              40\n",
      "Undetermined early-onset epileptic encephalopathy               42\n",
      "Familial isolated dilated cardiomyopathy                        45\n",
      "Autosomal dominant non-syndromic sensorineural ...              45\n",
      "Primary ciliary dyskinesia                                      47\n",
      "Autosomal recessive non-syndromic sensorineural...              73\n",
      "Retinitis pigmentosa                                            82\n"
     ]
    }
   ],
   "source": [
    "# Check how many genes are associated with every disorder\n",
    "\n",
    "agg_gene_df = gene_df.groupby(['DisorderName']).aggregate({'AccociatedGene': 'count'})\n",
    "agg_gene_df = agg_gene_df.sort_values(by='AccociatedGene')\n",
    "\n",
    "print(\"Disorders with lowest number of associated genes:\")\n",
    "print(agg_gene_df.head(10))\n",
    "print('\\n')\n",
    "print(\"Disorders with highest number of associated genes:\")\n",
    "print(agg_gene_df.tail(10))"
   ]
  },
  {
   "cell_type": "code",
   "execution_count": 27,
   "metadata": {},
   "outputs": [
    {
     "data": {
      "text/html": [
       "<div>\n",
       "<style scoped>\n",
       "    .dataframe tbody tr th:only-of-type {\n",
       "        vertical-align: middle;\n",
       "    }\n",
       "\n",
       "    .dataframe tbody tr th {\n",
       "        vertical-align: top;\n",
       "    }\n",
       "\n",
       "    .dataframe thead th {\n",
       "        text-align: right;\n",
       "    }\n",
       "</style>\n",
       "<table border=\"1\" class=\"dataframe\">\n",
       "  <thead>\n",
       "    <tr style=\"text-align: right;\">\n",
       "      <th></th>\n",
       "      <th>AccociatedGene</th>\n",
       "    </tr>\n",
       "  </thead>\n",
       "  <tbody>\n",
       "    <tr>\n",
       "      <th>count</th>\n",
       "      <td>3853.000000</td>\n",
       "    </tr>\n",
       "    <tr>\n",
       "      <th>mean</th>\n",
       "      <td>2.041007</td>\n",
       "    </tr>\n",
       "    <tr>\n",
       "      <th>std</th>\n",
       "      <td>3.596378</td>\n",
       "    </tr>\n",
       "    <tr>\n",
       "      <th>min</th>\n",
       "      <td>1.000000</td>\n",
       "    </tr>\n",
       "    <tr>\n",
       "      <th>25%</th>\n",
       "      <td>1.000000</td>\n",
       "    </tr>\n",
       "    <tr>\n",
       "      <th>50%</th>\n",
       "      <td>1.000000</td>\n",
       "    </tr>\n",
       "    <tr>\n",
       "      <th>75%</th>\n",
       "      <td>2.000000</td>\n",
       "    </tr>\n",
       "    <tr>\n",
       "      <th>max</th>\n",
       "      <td>82.000000</td>\n",
       "    </tr>\n",
       "  </tbody>\n",
       "</table>\n",
       "</div>"
      ],
      "text/plain": [
       "       AccociatedGene\n",
       "count     3853.000000\n",
       "mean         2.041007\n",
       "std          3.596378\n",
       "min          1.000000\n",
       "25%          1.000000\n",
       "50%          1.000000\n",
       "75%          2.000000\n",
       "max         82.000000"
      ]
     },
     "execution_count": 27,
     "metadata": {},
     "output_type": "execute_result"
    }
   ],
   "source": [
    "agg_gene_df.describe()"
   ]
  },
  {
   "cell_type": "markdown",
   "metadata": {},
   "source": [
    "#### Exploring gene - disorder association"
   ]
  },
  {
   "cell_type": "code",
   "execution_count": 29,
   "metadata": {},
   "outputs": [
    {
     "name": "stdout",
     "output_type": "stream",
     "text": [
      "                                       DisorderName\n",
      "AccociatedGene                                     \n",
      "formimidoyltransferase cyclodeaminase             1\n",
      "keratin 86                                        1\n",
      "keratin 9                                         1\n",
      "keratinocyte differentiation factor 1             1\n",
      "keratocan                                         1\n",
      "ketohexokinase                                    1\n",
      "killer cell lectin like receptor C4               1\n",
      "kinase D interacting substrate 220                1\n",
      "kinase insert domain receptor                     1\n",
      "kinase suppressor of ras 2                        1\n",
      "                                                    DisorderName\n",
      "AccociatedGene                                                  \n",
      "paired box 6                                                  14\n",
      "tumor protein p53                                             15\n",
      "methylenetetrahydrofolate reductase                           16\n",
      "major histocompatibility complex, class II, DR ...            16\n",
      "phosphatase and tensin homolog                                17\n",
      "hemoglobin subunit beta                                       18\n",
      "fibroblast growth factor receptor 1                           18\n",
      "collagen type II alpha 1 chain                                19\n",
      "KIT proto-oncogene, receptor tyrosine kinase                  19\n",
      "lamin A/C                                                     19\n"
     ]
    }
   ],
   "source": [
    "# Check how many disorders one gene is associated with\n",
    "agg_bygene_df = gene_df.groupby(['AccociatedGene']).aggregate({'DisorderName': 'count'})\n",
    "agg_bygene_df = agg_bygene_df.sort_values(by='DisorderName')\n",
    "print(agg_bygene_df.head(10))\n",
    "print(agg_bygene_df.tail(10))"
   ]
  },
  {
   "cell_type": "code",
   "execution_count": 30,
   "metadata": {},
   "outputs": [
    {
     "data": {
      "text/html": [
       "<div>\n",
       "<style scoped>\n",
       "    .dataframe tbody tr th:only-of-type {\n",
       "        vertical-align: middle;\n",
       "    }\n",
       "\n",
       "    .dataframe tbody tr th {\n",
       "        vertical-align: top;\n",
       "    }\n",
       "\n",
       "    .dataframe thead th {\n",
       "        text-align: right;\n",
       "    }\n",
       "</style>\n",
       "<table border=\"1\" class=\"dataframe\">\n",
       "  <thead>\n",
       "    <tr style=\"text-align: right;\">\n",
       "      <th></th>\n",
       "      <th>DisorderName</th>\n",
       "    </tr>\n",
       "  </thead>\n",
       "  <tbody>\n",
       "    <tr>\n",
       "      <th>count</th>\n",
       "      <td>4200.000000</td>\n",
       "    </tr>\n",
       "    <tr>\n",
       "      <th>mean</th>\n",
       "      <td>1.872381</td>\n",
       "    </tr>\n",
       "    <tr>\n",
       "      <th>std</th>\n",
       "      <td>1.733329</td>\n",
       "    </tr>\n",
       "    <tr>\n",
       "      <th>min</th>\n",
       "      <td>1.000000</td>\n",
       "    </tr>\n",
       "    <tr>\n",
       "      <th>25%</th>\n",
       "      <td>1.000000</td>\n",
       "    </tr>\n",
       "    <tr>\n",
       "      <th>50%</th>\n",
       "      <td>1.000000</td>\n",
       "    </tr>\n",
       "    <tr>\n",
       "      <th>75%</th>\n",
       "      <td>2.000000</td>\n",
       "    </tr>\n",
       "    <tr>\n",
       "      <th>max</th>\n",
       "      <td>19.000000</td>\n",
       "    </tr>\n",
       "  </tbody>\n",
       "</table>\n",
       "</div>"
      ],
      "text/plain": [
       "       DisorderName\n",
       "count   4200.000000\n",
       "mean       1.872381\n",
       "std        1.733329\n",
       "min        1.000000\n",
       "25%        1.000000\n",
       "50%        1.000000\n",
       "75%        2.000000\n",
       "max       19.000000"
      ]
     },
     "execution_count": 30,
     "metadata": {},
     "output_type": "execute_result"
    }
   ],
   "source": [
    "agg_bygene_df.describe()"
   ]
  },
  {
   "cell_type": "markdown",
   "metadata": {},
   "source": [
    "### Epidemiology dataset"
   ]
  },
  {
   "cell_type": "code",
   "execution_count": 31,
   "metadata": {},
   "outputs": [],
   "source": [
    "data_for_df = []\n",
    "\n",
    "root = ET.parse('epidemiology.xml').getroot()\n",
    "disorder_list = root.findall('DisorderList')[0]\n",
    "disorders = disorder_list.findall('Disorder') \n",
    "\n",
    "for disorder in disorders:\n",
    "    disorder_name = disorder.findall('Name')[0].text\n",
    "    disorder_type = disorder.findall('DisorderType')[0].findall('Name')[0].text\n",
    "    disorder_group = disorder.findall('DisorderGroup')[0].findall('Name')[0].text\n",
    "\n",
    "    disorder_prevalence_list = disorder.findall('PrevalenceList')[0]\n",
    "    disorder_prevalences = disorder_prevalence_list.findall('Prevalence')\n",
    "    \n",
    "    for prevalence in disorder_prevalences:\n",
    "        prevalence_type = prevalence.findall('PrevalenceType')[0].findall('Name')[0].text\n",
    "        prevalence_qualification = prevalence.findall('PrevalenceQualification')[0].findall('Name')[0].text\n",
    "        prevalence_geographic = prevalence.findall('PrevalenceGeographic')[0].findall('Name')[0].text\n",
    "        prevalence_validation = prevalence.findall('PrevalenceValidationStatus')[0].findall('Name')[0].text\n",
    "\n",
    "        data_for_df.append({'DisorderName' : disorder_name,\n",
    "                            'DisorderType' : disorder_type,\n",
    "                            'DisorderGroup' : disorder_group,\n",
    "                            'PrevalenceType' : prevalence_type,\n",
    "                            'PrevalenceQualification' : prevalence_qualification,\n",
    "                            'PrevalenceGeographic': prevalence_geographic,\n",
    "                            'PrevalenceValidationStatus': prevalence_validation})\n",
    "        \n",
    "df_epidem = pd.DataFrame(data_for_df)  "
   ]
  },
  {
   "cell_type": "markdown",
   "metadata": {},
   "source": [
    "#### Data Sample"
   ]
  },
  {
   "cell_type": "code",
   "execution_count": 32,
   "metadata": {},
   "outputs": [
    {
     "data": {
      "text/html": [
       "<div>\n",
       "<style scoped>\n",
       "    .dataframe tbody tr th:only-of-type {\n",
       "        vertical-align: middle;\n",
       "    }\n",
       "\n",
       "    .dataframe tbody tr th {\n",
       "        vertical-align: top;\n",
       "    }\n",
       "\n",
       "    .dataframe thead th {\n",
       "        text-align: right;\n",
       "    }\n",
       "</style>\n",
       "<table border=\"1\" class=\"dataframe\">\n",
       "  <thead>\n",
       "    <tr style=\"text-align: right;\">\n",
       "      <th></th>\n",
       "      <th>DisorderGroup</th>\n",
       "      <th>DisorderName</th>\n",
       "      <th>DisorderType</th>\n",
       "      <th>PrevalenceGeographic</th>\n",
       "      <th>PrevalenceQualification</th>\n",
       "      <th>PrevalenceType</th>\n",
       "      <th>PrevalenceValidationStatus</th>\n",
       "    </tr>\n",
       "  </thead>\n",
       "  <tbody>\n",
       "    <tr>\n",
       "      <th>0</th>\n",
       "      <td>Disorder</td>\n",
       "      <td>Multiple epiphyseal dysplasia, Al-Gazali type</td>\n",
       "      <td>Disease</td>\n",
       "      <td>Worldwide</td>\n",
       "      <td>Case</td>\n",
       "      <td>Cases/families</td>\n",
       "      <td>Validated</td>\n",
       "    </tr>\n",
       "    <tr>\n",
       "      <th>1</th>\n",
       "      <td>Disorder</td>\n",
       "      <td>Multiple epiphyseal dysplasia, Al-Gazali type</td>\n",
       "      <td>Disease</td>\n",
       "      <td>Worldwide</td>\n",
       "      <td>Class only</td>\n",
       "      <td>Point prevalence</td>\n",
       "      <td>Validated</td>\n",
       "    </tr>\n",
       "    <tr>\n",
       "      <th>2</th>\n",
       "      <td>Disorder</td>\n",
       "      <td>Alexander disease</td>\n",
       "      <td>Disease</td>\n",
       "      <td>Japan</td>\n",
       "      <td>Value and class</td>\n",
       "      <td>Annual incidence</td>\n",
       "      <td>Validated</td>\n",
       "    </tr>\n",
       "    <tr>\n",
       "      <th>3</th>\n",
       "      <td>Disorder</td>\n",
       "      <td>Alexander disease</td>\n",
       "      <td>Disease</td>\n",
       "      <td>Worldwide</td>\n",
       "      <td>Class only</td>\n",
       "      <td>Point prevalence</td>\n",
       "      <td>Not yet validated</td>\n",
       "    </tr>\n",
       "    <tr>\n",
       "      <th>4</th>\n",
       "      <td>Disorder</td>\n",
       "      <td>Multiple epiphyseal dysplasia, with miniepiphyses</td>\n",
       "      <td>Disease</td>\n",
       "      <td>Worldwide</td>\n",
       "      <td>Case</td>\n",
       "      <td>Cases/families</td>\n",
       "      <td>Validated</td>\n",
       "    </tr>\n",
       "  </tbody>\n",
       "</table>\n",
       "</div>"
      ],
      "text/plain": [
       "  DisorderGroup                                       DisorderName  \\\n",
       "0      Disorder      Multiple epiphyseal dysplasia, Al-Gazali type   \n",
       "1      Disorder      Multiple epiphyseal dysplasia, Al-Gazali type   \n",
       "2      Disorder                                  Alexander disease   \n",
       "3      Disorder                                  Alexander disease   \n",
       "4      Disorder  Multiple epiphyseal dysplasia, with miniepiphyses   \n",
       "\n",
       "  DisorderType PrevalenceGeographic PrevalenceQualification    PrevalenceType  \\\n",
       "0      Disease            Worldwide                    Case    Cases/families   \n",
       "1      Disease            Worldwide              Class only  Point prevalence   \n",
       "2      Disease                Japan         Value and class  Annual incidence   \n",
       "3      Disease            Worldwide              Class only  Point prevalence   \n",
       "4      Disease            Worldwide                    Case    Cases/families   \n",
       "\n",
       "  PrevalenceValidationStatus  \n",
       "0                  Validated  \n",
       "1                  Validated  \n",
       "2                  Validated  \n",
       "3          Not yet validated  \n",
       "4                  Validated  "
      ]
     },
     "execution_count": 32,
     "metadata": {},
     "output_type": "execute_result"
    }
   ],
   "source": [
    "df_epidem.head()"
   ]
  },
  {
   "cell_type": "markdown",
   "metadata": {},
   "source": [
    "#### Basic Data Info"
   ]
  },
  {
   "cell_type": "code",
   "execution_count": 33,
   "metadata": {},
   "outputs": [
    {
     "data": {
      "text/html": [
       "<div>\n",
       "<style scoped>\n",
       "    .dataframe tbody tr th:only-of-type {\n",
       "        vertical-align: middle;\n",
       "    }\n",
       "\n",
       "    .dataframe tbody tr th {\n",
       "        vertical-align: top;\n",
       "    }\n",
       "\n",
       "    .dataframe thead th {\n",
       "        text-align: right;\n",
       "    }\n",
       "</style>\n",
       "<table border=\"1\" class=\"dataframe\">\n",
       "  <thead>\n",
       "    <tr style=\"text-align: right;\">\n",
       "      <th></th>\n",
       "      <th>DisorderGroup</th>\n",
       "      <th>DisorderName</th>\n",
       "      <th>DisorderType</th>\n",
       "      <th>PrevalenceGeographic</th>\n",
       "      <th>PrevalenceQualification</th>\n",
       "      <th>PrevalenceType</th>\n",
       "      <th>PrevalenceValidationStatus</th>\n",
       "    </tr>\n",
       "  </thead>\n",
       "  <tbody>\n",
       "    <tr>\n",
       "      <th>count</th>\n",
       "      <td>15431</td>\n",
       "      <td>15431</td>\n",
       "      <td>15431</td>\n",
       "      <td>15431</td>\n",
       "      <td>15431</td>\n",
       "      <td>15431</td>\n",
       "      <td>15431</td>\n",
       "    </tr>\n",
       "    <tr>\n",
       "      <th>unique</th>\n",
       "      <td>3</td>\n",
       "      <td>6037</td>\n",
       "      <td>11</td>\n",
       "      <td>133</td>\n",
       "      <td>4</td>\n",
       "      <td>5</td>\n",
       "      <td>2</td>\n",
       "    </tr>\n",
       "    <tr>\n",
       "      <th>top</th>\n",
       "      <td>Disorder</td>\n",
       "      <td>Hemophilia A</td>\n",
       "      <td>Disease</td>\n",
       "      <td>Worldwide</td>\n",
       "      <td>Value and class</td>\n",
       "      <td>Point prevalence</td>\n",
       "      <td>Validated</td>\n",
       "    </tr>\n",
       "    <tr>\n",
       "      <th>freq</th>\n",
       "      <td>13176</td>\n",
       "      <td>110</td>\n",
       "      <td>9108</td>\n",
       "      <td>8225</td>\n",
       "      <td>6537</td>\n",
       "      <td>7352</td>\n",
       "      <td>13371</td>\n",
       "    </tr>\n",
       "  </tbody>\n",
       "</table>\n",
       "</div>"
      ],
      "text/plain": [
       "       DisorderGroup  DisorderName DisorderType PrevalenceGeographic  \\\n",
       "count          15431         15431        15431                15431   \n",
       "unique             3          6037           11                  133   \n",
       "top         Disorder  Hemophilia A      Disease            Worldwide   \n",
       "freq           13176           110         9108                 8225   \n",
       "\n",
       "       PrevalenceQualification    PrevalenceType PrevalenceValidationStatus  \n",
       "count                    15431             15431                      15431  \n",
       "unique                       4                 5                          2  \n",
       "top            Value and class  Point prevalence                  Validated  \n",
       "freq                      6537              7352                      13371  "
      ]
     },
     "execution_count": 33,
     "metadata": {},
     "output_type": "execute_result"
    }
   ],
   "source": [
    "df_epidem.describe()"
   ]
  },
  {
   "cell_type": "markdown",
   "metadata": {},
   "source": [
    "#### Unique values"
   ]
  },
  {
   "cell_type": "code",
   "execution_count": 35,
   "metadata": {},
   "outputs": [
    {
     "name": "stdout",
     "output_type": "stream",
     "text": [
      "['Disorder' 'Subtype of disorder' 'Group of disorders']\n",
      "\n",
      "\n",
      "['Disease' 'Malformation syndrome' 'Clinical subtype' 'Clinical group'\n",
      " 'Category' 'Particular clinical situation in a disease or syndrome'\n",
      " 'Etiological subtype' 'Biological anomaly' 'Morphological anomaly'\n",
      " 'Clinical syndrome' 'Histopathological subtype']\n",
      "\n",
      "\n",
      "['Case' 'Class only' 'Value and class' 'Family']\n",
      "\n",
      "\n",
      "['Cases/families' 'Point prevalence' 'Annual incidence'\n",
      " 'Prevalence at birth' 'Lifetime Prevalence']\n",
      "\n",
      "\n",
      "['Validated' 'Not yet validated']\n",
      "\n",
      "\n",
      "['Worldwide' 'Japan' 'Europe' 'Australia' 'Norway' 'Netherlands'\n",
      " 'Portugal' 'Czech Republic' 'Sweden' 'Finland' 'Specific population'\n",
      " 'France' 'Germany' 'United Kingdom' 'Denmark' 'Italy' 'Austria'\n",
      " 'United States' 'China' 'Turkey' 'Canada' 'Taiwan, Province of China'\n",
      " 'Estonia' 'Colombia' 'Poland' 'Saudi Arabia' 'Brazil' 'Switzerland'\n",
      " 'Tunisia' 'Korea, Republic of' 'Ireland' 'Belgium' 'Bulgaria' 'Croatia'\n",
      " 'Hungary' 'Malta' 'Spain' 'Ukraine' 'Singapore' 'Greece'\n",
      " 'Russian Federation' 'Ecuador' 'Israel' 'Mexico' 'New Zealand' 'Slovakia'\n",
      " 'Romania' 'Lithuania' 'Luxembourg' 'Latvia' 'Slovenia' 'Cyprus' 'Iceland'\n",
      " 'Serbia' 'South Africa' 'Hong Kong' 'Uruguay' 'Faroe Islands'\n",
      " 'Iran, Islamic Republic of' 'Egypt' 'Guadeloupe' 'Martinique' 'Guyana'\n",
      " 'Reunion' 'India' 'Latin America'\n",
      " 'Macedonia, the former Yugoslav Republic of' 'Belarus' 'Qatar'\n",
      " 'South East Asia' 'Africa' 'Kuwait' 'Jamaica' 'Thailand'\n",
      " 'United Arab Emirates' 'Jordan' 'Argentina' 'Libyan Arab Jamahiriya'\n",
      " 'Cuba' 'Oman' 'Pakistan' 'Peru' 'Lebanon' 'Bangladesh'\n",
      " 'Bosnia and Herzegovina' 'Bahrain' 'Oceania' 'Viet Nam'\n",
      " 'Brunei Darussalam' 'Tanzania, United Republic of' 'Algeria' 'Chile'\n",
      " 'Costa rica' 'Armenia' 'Sudan' 'Bolivia' 'North America'\n",
      " 'Palestinian Territory, occupied' 'Puerto rico' 'Uganda'\n",
      " 'French Polynesia' 'Haiti' 'Philippines' 'Mongolia' 'Albania'\n",
      " 'Azerbaijan' 'Belize' 'Dominican Republic' 'El Salvador' 'Eritrea'\n",
      " 'Georgia' 'Guatemala' 'Honduras' 'Indonesia' 'Iraq' 'Malaysia'\n",
      " 'Moldova, Republic of' 'Morocco' 'Nepal' 'Nigeria' 'Senegal'\n",
      " 'Sierra leone' 'Kenya' 'Nicaragua' 'Panama' 'Paraguay' 'Sri Lanka' 'Togo'\n",
      " 'Uzbekistan' 'Venezuela' 'Zimbabwe' 'Lesotho' 'Greenland']\n"
     ]
    }
   ],
   "source": [
    "print(df_epidem['DisorderGroup'].unique())\n",
    "print('\\n')\n",
    "print(df_epidem['DisorderType'].unique())\n",
    "print('\\n')\n",
    "print(df_epidem['PrevalenceQualification'].unique())\n",
    "print('\\n')\n",
    "print(df_epidem['PrevalenceType'].unique())\n",
    "print('\\n')\n",
    "print(df_epidem['PrevalenceValidationStatus'].unique())\n",
    "print('\\n')\n",
    "print(df_epidem['PrevalenceGeographic'].unique())"
   ]
  },
  {
   "cell_type": "code",
   "execution_count": 63,
   "metadata": {},
   "outputs": [
    {
     "name": "stderr",
     "output_type": "stream",
     "text": [
      "No handles with labels found to put in legend.\n"
     ]
    },
    {
     "data": {
      "image/png": "[encoded data removed]",
      "text/plain": [
       "<Figure size 960x1440 with 1 Axes>"
      ]
     },
     "metadata": {
      "needs_background": "light"
     },
     "output_type": "display_data"
    }
   ],
   "source": [
    "agg_df_epidem = df_epidem.groupby(['PrevalenceGeographic']).aggregate({'DisorderName': 'count'}).reset_index()\n",
    "agg_df_epidem = agg_df_epidem.sort_values(by = 'DisorderName', ascending = False)\n",
    "agg_df_epidem = agg_df_epidem.iloc[:40]\n",
    "\n",
    "fig, ax = plt.subplots(figsize=(12,18), dpi=80)\n",
    "sns.barplot(data = agg_df_epidem, x = 'DisorderName', y = 'PrevalenceGeographic')\n",
    "\n",
    "ax.set_title('Disorders by geography')\n",
    "ax.xaxis.tick_top()\n",
    "ax.xaxis.label.set_visible(False)\n",
    "ax.legend(bbox_to_anchor=[1.0, 0.89]);"
   ]
  }
 ],
 "metadata": {
  "kernelspec": {
   "display_name": "Python 3",
   "language": "python",
   "name": "python3"
  },
  "language_info": {
   "codemirror_mode": {
    "name": "ipython",
    "version": 3
   },
   "file_extension": ".py",
   "mimetype": "text/x-python",
   "name": "python",
   "nbconvert_exporter": "python",
   "pygments_lexer": "ipython3",
   "version": "3.7.3"
  }
 },
 "nbformat": 4,
 "nbformat_minor": 2
}
